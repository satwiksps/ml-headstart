{
  "nbformat": 4,
  "nbformat_minor": 0,
  "metadata": {
    "colab": {
      "provenance": []
    },
    "kernelspec": {
      "name": "python3",
      "display_name": "Python 3"
    },
    "language_info": {
      "name": "python"
    }
  },
  "cells": [
    {
      "cell_type": "markdown",
      "source": [
        "## Model Performance Evaluation in Machine Learning\n",
        "Evaluating model performance is essential to understand how well it generalizes to unseen data. Below are the most common techniques."
      ],
      "metadata": {
        "id": "bBPB429z8ubL"
      }
    },
    {
      "cell_type": "markdown",
      "source": [
        "#### Load Dataset and Split Inputs/Outputs"
      ],
      "metadata": {
        "id": "8lhfn1eA886x"
      }
    },
    {
      "cell_type": "code",
      "source": [
        "from pandas import read_csv\n",
        "\n",
        "url = 'https://raw.githubusercontent.com/erojaso/MLMasteryEndToEnd/master/data/pima-indians-diabetes.data.csv'\n",
        "column_names = ['preg', 'plas', 'pres', 'skin', 'test', 'mass', 'pedi', 'age', 'class']\n",
        "\n",
        "data = read_csv(url, names=column_names)\n",
        "array = data.values\n",
        "Input = array[:, 0:8]\n",
        "Output = array[:, 8]"
      ],
      "metadata": {
        "id": "HbMv_wWO805h"
      },
      "execution_count": 6,
      "outputs": []
    },
    {
      "cell_type": "markdown",
      "source": [
        "## Train/Test Split\n",
        "This splits data into training and testing portions. Accuracy is measured on the test data."
      ],
      "metadata": {
        "id": "cJYGn3199DX-"
      }
    },
    {
      "cell_type": "code",
      "source": [
        "from sklearn.model_selection import train_test_split\n",
        "from sklearn.linear_model import LogisticRegression\n",
        "\n",
        "seed = 7\n",
        "test_size = 0.33\n",
        "Input_train, Input_test, Output_train, Output_test = train_test_split(Input, Output, test_size=test_size, random_state=seed)\n",
        "\n",
        "model = LogisticRegression(solver='liblinear')\n",
        "model.fit(Input_train, Output_train)\n",
        "result = model.score(Input_test, Output_test)\n",
        "print(\"Accuracy: %.3f%%\" % (result * 100.0))"
      ],
      "metadata": {
        "colab": {
          "base_uri": "https://localhost:8080/"
        },
        "id": "6keL5hlA9JDw",
        "outputId": "b109f55b-9f33-47a3-985e-7e0a13ebd84f"
      },
      "execution_count": 7,
      "outputs": [
        {
          "output_type": "stream",
          "name": "stdout",
          "text": [
            "Accuracy: 75.591%\n"
          ]
        }
      ]
    },
    {
      "cell_type": "markdown",
      "source": [
        "## K-Fold Cross Validation\n",
        "This divides data into `k` folds and rotates the validation set across each fold. Useful to get stable accuracy estimation."
      ],
      "metadata": {
        "id": "YMg1zmkh9M7N"
      }
    },
    {
      "cell_type": "code",
      "source": [
        "from sklearn.model_selection import KFold, cross_val_score\n",
        "\n",
        "num_folds = 10\n",
        "kfold = KFold(n_splits=num_folds)\n",
        "model = LogisticRegression(solver='liblinear')\n",
        "results = cross_val_score(model, Input, Output, cv=kfold)\n",
        "print(\"Accuracy: %.3f%%, Standard Deviation: (%.3f%%)\" % (results.mean() * 100.0, results.std() * 100.0))"
      ],
      "metadata": {
        "colab": {
          "base_uri": "https://localhost:8080/"
        },
        "id": "4wZjsszD9MlT",
        "outputId": "4cfec616-6ffb-43e0-e20b-f22170bf0eac"
      },
      "execution_count": 8,
      "outputs": [
        {
          "output_type": "stream",
          "name": "stdout",
          "text": [
            "Accuracy: 76.951%, Standard Deviation: (4.841%)\n"
          ]
        }
      ]
    },
    {
      "cell_type": "markdown",
      "source": [
        "## Leave-One-Out Cross Validation (LOOCV)\n",
        "Each row is used once as a test set while the rest are training data. Very accurate but slow for large datasets."
      ],
      "metadata": {
        "id": "QTvQ_KCA9THU"
      }
    },
    {
      "cell_type": "code",
      "source": [
        "from sklearn.model_selection import LeaveOneOut\n",
        "\n",
        "loocv = LeaveOneOut()\n",
        "model = LogisticRegression(solver='liblinear')\n",
        "results = cross_val_score(model, Input, Output, cv=loocv)\n",
        "print(\"Accuracy: %.3f%%, Standard Deviation: (%.3f%%)\" % (results.mean() * 100.0, results.std() * 100.0))"
      ],
      "metadata": {
        "colab": {
          "base_uri": "https://localhost:8080/"
        },
        "id": "gSnpDYH39WJ8",
        "outputId": "5eefc511-7996-490f-b57e-16d389e80a8f"
      },
      "execution_count": 9,
      "outputs": [
        {
          "output_type": "stream",
          "name": "stdout",
          "text": [
            "Accuracy: 76.823%, Standard Deviation: (42.196%)\n"
          ]
        }
      ]
    },
    {
      "cell_type": "markdown",
      "source": [
        "## Repeated Random Test-Train Splits (ShuffleSplit)\n",
        "Randomly splits the dataset into train/test multiple times and averages the accuracy. Useful when limited data is available."
      ],
      "metadata": {
        "id": "Jdrr-yXi9ZDs"
      }
    },
    {
      "cell_type": "code",
      "source": [
        "from sklearn.model_selection import ShuffleSplit\n",
        "\n",
        "n_splits = 10\n",
        "test_size = 0.33\n",
        "kfold = ShuffleSplit(n_splits=n_splits, test_size=test_size, random_state=seed)\n",
        "model = LogisticRegression(solver='liblinear')\n",
        "results = cross_val_score(model, Input, Output, cv=kfold)\n",
        "print(\"Accuracy: %.3f%%, Standard Deviation: (%.3f%%)\" % (results.mean() * 100.0, results.std() * 100.0))"
      ],
      "metadata": {
        "colab": {
          "base_uri": "https://localhost:8080/"
        },
        "id": "qJ4WrT189ahb",
        "outputId": "75f7bb7f-74ab-4fcd-e60e-37c3e8827fee"
      },
      "execution_count": 10,
      "outputs": [
        {
          "output_type": "stream",
          "name": "stdout",
          "text": [
            "Accuracy: 76.535%, Standard Deviation: (1.691%)\n"
          ]
        }
      ]
    }
  ]
}