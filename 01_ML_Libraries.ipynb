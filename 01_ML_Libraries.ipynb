{
  "nbformat": 4,
  "nbformat_minor": 0,
  "metadata": {
    "colab": {
      "provenance": []
    },
    "kernelspec": {
      "name": "python3",
      "display_name": "Python 3"
    },
    "language_info": {
      "name": "python"
    }
  },
  "cells": [
    {
      "cell_type": "markdown",
      "source": [
        "## Important Libraries to Learn for Machine Learning\n",
        " Some foundational Python libraries you must become comfortable with:\n",
        "* **NumPy**: For numerical computing and handling arrays.\n",
        "* **Pandas**: For data manipulation and analysis.\n",
        "* **Matplotlib**: For data visualization.\n",
        "* **SciPy**: For scientific computing.\n",
        "* **Scikit-learn**: For machine learning tools.\n",
        "* **Joblib**: For model serialization (saving/loading)."
      ],
      "metadata": {
        "id": "AMTDGGCWg8a9"
      }
    },
    {
      "cell_type": "code",
      "execution_count": 9,
      "metadata": {
        "id": "8eykfbZEgz9Z",
        "colab": {
          "base_uri": "https://localhost:8080/"
        },
        "outputId": "bc8762bb-74b5-4c40-9b70-6d9b55c5eed7"
      },
      "outputs": [
        {
          "output_type": "stream",
          "name": "stdout",
          "text": [
            "scipy: 1.15.3\n",
            "numpy: 2.0.2\n",
            "matplotlib: 3.10.0\n",
            "pandas: 2.2.2\n",
            "sklearn: 1.6.1\n",
            "joblib: 1.5.1\n"
          ]
        }
      ],
      "source": [
        "# scipy\n",
        "import scipy\n",
        "print('scipy: {}'.format(scipy.__version__))\n",
        "\n",
        "# numpy\n",
        "import numpy\n",
        "print('numpy: {}'.format(numpy.__version__))\n",
        "\n",
        "# matplotlib\n",
        "import matplotlib\n",
        "import matplotlib.pyplot as plt\n",
        "print('matplotlib: {}'.format(matplotlib.__version__))\n",
        "\n",
        "# pandas\n",
        "import pandas\n",
        "print('pandas: {}'.format(pandas.__version__))\n",
        "\n",
        "# scikit-learn\n",
        "import sklearn\n",
        "print('sklearn: {}'.format(sklearn.__version__))\n",
        "\n",
        "# joblib\n",
        "import joblib\n",
        "print('joblib: {}'.format(joblib.__version__))"
      ]
    },
    {
      "cell_type": "markdown",
      "source": [
        "## Working with NumPy Arrays\n",
        "NumPy is the backbone of numerical computing in Python. Here's how to create arrays and perform basic operations."
      ],
      "metadata": {
        "id": "FfjwriORiQn7"
      }
    },
    {
      "cell_type": "code",
      "source": [
        "# Creating a 2D array\n",
        "mylist = [[1, 2, 3], [3, 4, 5]]\n",
        "myarray = numpy.array(mylist)\n",
        "\n",
        "print(myarray)\n",
        "print(myarray.shape)"
      ],
      "metadata": {
        "id": "eRAWA2IdiWuq",
        "colab": {
          "base_uri": "https://localhost:8080/"
        },
        "outputId": "c72701b4-d715-43b8-c691-62d96febda0f"
      },
      "execution_count": 10,
      "outputs": [
        {
          "output_type": "stream",
          "name": "stdout",
          "text": [
            "[[1 2 3]\n",
            " [3 4 5]]\n",
            "(2, 3)\n"
          ]
        }
      ]
    },
    {
      "cell_type": "code",
      "source": [
        "# Accessing elements in a NumPy array\n",
        "print(\"First row: %s\" % myarray[0])\n",
        "print(\"Last row: %s\" % myarray[-1])\n",
        "print(\"Specific row and col: %s\" % myarray[0, 2])\n",
        "print(\"Whole col: %s\" % myarray[:, 1])"
      ],
      "metadata": {
        "id": "wqK_ZpTgibRa",
        "colab": {
          "base_uri": "https://localhost:8080/"
        },
        "outputId": "c284386d-9c82-4adb-bccf-0de39712c9b1"
      },
      "execution_count": 11,
      "outputs": [
        {
          "output_type": "stream",
          "name": "stdout",
          "text": [
            "First row: [1 2 3]\n",
            "Last row: [3 4 5]\n",
            "Specific row and col: 3\n",
            "Whole col: [2 4]\n"
          ]
        }
      ]
    },
    {
      "cell_type": "code",
      "source": [
        "# Basic arithmetic with NumPy arrays\n",
        "myarray1 = numpy.array([2, 2, 2])\n",
        "myarray2 = numpy.array([3, 3, 3])\n",
        "\n",
        "print(\"Addition: %s\" % (myarray1 + myarray2))\n",
        "print(\"Multiplication: %s\" % (myarray1 * myarray2))\n",
        "print(\"Subtraction: %s\" % (myarray2 - myarray1))"
      ],
      "metadata": {
        "id": "F942BQYmieZK",
        "colab": {
          "base_uri": "https://localhost:8080/"
        },
        "outputId": "e12bd8ed-ed1a-4a08-e8f5-68f2f67dc8ab"
      },
      "execution_count": 12,
      "outputs": [
        {
          "output_type": "stream",
          "name": "stdout",
          "text": [
            "Addition: [5 5 5]\n",
            "Multiplication: [6 6 6]\n",
            "Subtraction: [1 1 1]\n"
          ]
        }
      ]
    },
    {
      "cell_type": "markdown",
      "source": [
        "## Data Visualization with Matplotlib\n",
        "Visualizing data helps understand patterns and trends quickly."
      ],
      "metadata": {
        "id": "GxKye3M3BeYk"
      }
    },
    {
      "cell_type": "code",
      "source": [
        "# Line plot\n",
        "myarray = numpy.array([1, 2, 3])\n",
        "plt.plot(myarray, linestyle='dashdot')\n",
        "plt.xlabel('some x axis')\n",
        "plt.ylabel('some y axis')\n",
        "plt.show()"
      ],
      "metadata": {
        "colab": {
          "base_uri": "https://localhost:8080/",
          "height": 449
        },
        "id": "Ea-QUKr7Bztc",
        "outputId": "5b7da988-0405-41fa-8db8-8e8673b48f36"
      },
      "execution_count": 13,
      "outputs": [
        {
          "output_type": "display_data",
          "data": {
            "text/plain": [
              "<Figure size 640x480 with 1 Axes>"
            ],
            "image/png": "[encoded data removed]"
          },
          "metadata": {}
        }
      ]
    },
    {
      "cell_type": "code",
      "source": [
        "# Scatter plot\n",
        "x = numpy.array([1, 2, 3])\n",
        "y = numpy.array([2, 4, 6])\n",
        "plt.scatter(x, y)\n",
        "plt.xlabel('some x axis')\n",
        "plt.ylabel('some y axis')\n",
        "plt.show()"
      ],
      "metadata": {
        "colab": {
          "base_uri": "https://localhost:8080/",
          "height": 449
        },
        "id": "oBhw5B8PB2KL",
        "outputId": "178fbe5d-700e-4c39-8e34-d77c2df41eb5"
      },
      "execution_count": 14,
      "outputs": [
        {
          "output_type": "display_data",
          "data": {
            "text/plain": [
              "<Figure size 640x480 with 1 Axes>"
            ],
            "image/png": "[encoded data removed]"
          },
          "metadata": {}
        }
      ]
    },
    {
      "cell_type": "markdown",
      "source": [
        "## Creating DataFrames with Pandas\n",
        "DataFrames are a 2D tabular data structure provided by pandas. Very useful for organizing and analyzing datasets."
      ],
      "metadata": {
        "id": "Qx10fDBLB7eA"
      }
    },
    {
      "cell_type": "code",
      "source": [
        "myarray = numpy.array([[1, 2, 3], [4, 5, 6]])\n",
        "rownames = ['a', 'b']\n",
        "colnames = ['one', 'two', 'three']\n",
        "\n",
        "mydataframe = pandas.DataFrame(myarray, index=rownames, columns=colnames)\n",
        "print(mydataframe)\n",
        "print()\n",
        "print(mydataframe['one'])\n"
      ],
      "metadata": {
        "colab": {
          "base_uri": "https://localhost:8080/"
        },
        "id": "vYGV4qo9B3S5",
        "outputId": "57262fba-c981-438d-b49f-41e618f07d63"
      },
      "execution_count": 15,
      "outputs": [
        {
          "output_type": "stream",
          "name": "stdout",
          "text": [
            "   one  two  three\n",
            "a    1    2      3\n",
            "b    4    5      6\n",
            "\n",
            "a    1\n",
            "b    4\n",
            "Name: one, dtype: int64\n"
          ]
        }
      ]
    },
    {
      "cell_type": "markdown",
      "source": [
        "## Use Pandas for Robust CSV Handling\n",
        "Pandas can directly load data from local files or URLs. Here's an example of loading a dataset from a GitHub URL."
      ],
      "metadata": {
        "id": "rP23Vjn4CCeL"
      }
    },
    {
      "cell_type": "code",
      "source": [
        "from pandas import read_csv\n",
        "\n",
        "url = 'https://raw.githubusercontent.com/erojaso/MLMasteryEndToEnd/master/data/pima-indians-diabetes.data.csv'\n",
        "column_names = ['preg', 'plas', 'pres', 'skin', 'test', 'mass', 'pedi', 'age', 'class']\n",
        "\n",
        "data = read_csv(url, names=column_names)\n",
        "print(data)\n",
        "print(data.shape)"
      ],
      "metadata": {
        "colab": {
          "base_uri": "https://localhost:8080/"
        },
        "id": "UnL8NdCECAZJ",
        "outputId": "05f78c2f-6d20-4424-9fbe-5c491a78076f"
      },
      "execution_count": 16,
      "outputs": [
        {
          "output_type": "stream",
          "name": "stdout",
          "text": [
            "     preg  plas  pres  skin  test  mass   pedi  age  class\n",
            "0       6   148    72    35     0  33.6  0.627   50      1\n",
            "1       1    85    66    29     0  26.6  0.351   31      0\n",
            "2       8   183    64     0     0  23.3  0.672   32      1\n",
            "3       1    89    66    23    94  28.1  0.167   21      0\n",
            "4       0   137    40    35   168  43.1  2.288   33      1\n",
            "..    ...   ...   ...   ...   ...   ...    ...  ...    ...\n",
            "763    10   101    76    48   180  32.9  0.171   63      0\n",
            "764     2   122    70    27     0  36.8  0.340   27      0\n",
            "765     5   121    72    23   112  26.2  0.245   30      0\n",
            "766     1   126    60     0     0  30.1  0.349   47      1\n",
            "767     1    93    70    31     0  30.4  0.315   23      0\n",
            "\n",
            "[768 rows x 9 columns]\n",
            "(768, 9)\n"
          ]
        }
      ]
    }
  ]
}