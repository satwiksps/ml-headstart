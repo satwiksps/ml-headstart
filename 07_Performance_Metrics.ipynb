{
  "nbformat": 4,
  "nbformat_minor": 0,
  "metadata": {
    "colab": {
      "provenance": []
    },
    "kernelspec": {
      "name": "python3",
      "display_name": "Python 3"
    },
    "language_info": {
      "name": "python"
    }
  },
  "cells": [
    {
      "cell_type": "markdown",
      "source": [
        "## Performance Metrics\n",
        "We are using two classic datasets:\n",
        "\n",
        "* Pima Indians Diabetes Dataset – for binary classification.\n",
        "* Boston Housing Dataset – for regression.\n",
        "\n",
        "Both datasets are loaded using `pandas.read_csv()` and converted into NumPy arrays. We split them into input features (X) and target outputs (Y) for training and evaluation."
      ],
      "metadata": {
        "id": "ZGxvp1Yu-01i"
      }
    },
    {
      "cell_type": "code",
      "source": [
        "from pandas import read_csv\n",
        "\n",
        "# Pima Indians Diabetes Dataset\n",
        "url = 'https://raw.githubusercontent.com/erojaso/MLMasteryEndToEnd/master/data/pima-indians-diabetes.data.csv'\n",
        "column_names = ['preg', 'plas', 'pres', 'skin', 'test', 'mass', 'pedi', 'age', 'class']\n",
        "data = read_csv(url, names=column_names)\n",
        "X1 = data.values[:, 0:8]\n",
        "Y1 = data.values[:, 8]\n",
        "print(\"Shape of X1:\", X1.shape)\n",
        "print(\"Shape of Y1:\", Y1.shape)\n",
        "\n",
        "# Boston House Price Dataset\n",
        "url2 = 'https://raw.githubusercontent.com/erojaso/MLMasteryEndToEnd/master/data/housing.NAN.adjust.csv'\n",
        "names = ['CRIM', 'ZN', 'INDUS', 'CHAS', 'NOX', 'RM', 'AGE', 'DIS', 'RAD',\n",
        "         'TAX', 'PTRATIO', 'B', 'LSTAT', 'MEDV']\n",
        "df2 = read_csv(url2, names=names)\n",
        "X2 = df2.values[:, 0:13]\n",
        "Y2 = df2.values[:, 13]\n",
        "print(\"Shape of X2:\", X2.shape)\n",
        "print(\"Shape of Y2:\", Y2.shape)"
      ],
      "metadata": {
        "colab": {
          "base_uri": "https://localhost:8080/"
        },
        "id": "EQp2OfvW_CR6",
        "outputId": "2f41dc60-be59-435d-92fd-13f8d3cf3238"
      },
      "execution_count": 1,
      "outputs": [
        {
          "output_type": "stream",
          "name": "stdout",
          "text": [
            "Shape of X1: (768, 8)\n",
            "Shape of Y1: (768,)\n",
            "Shape of X2: (506, 13)\n",
            "Shape of Y2: (506,)\n"
          ]
        }
      ]
    },
    {
      "cell_type": "markdown",
      "source": [
        "## Classification Metrics (Pima Dataset)"
      ],
      "metadata": {
        "id": "EvfI8j7q2W2N"
      }
    },
    {
      "cell_type": "markdown",
      "source": [
        "### Classification Accuracy\n",
        "Accuracy is the most intuitive performance measure. It is\n",
        "simply the ratio of correctly predicted observations to the total observations.\n",
        "We evaluate accuracy using 10-fold cross-validation with logistic regression."
      ],
      "metadata": {
        "id": "Ph4R8FKZ2YZP"
      }
    },
    {
      "cell_type": "code",
      "source": [
        "from sklearn.model_selection import KFold, cross_val_score\n",
        "from sklearn.linear_model import LogisticRegression\n",
        "\n",
        "model = LogisticRegression(solver='liblinear')\n",
        "results = cross_val_score(model, X1, Y1, cv=KFold(n_splits=10), scoring='accuracy')\n",
        "print(\"Accuracy: %.3f%%, Standard Deviation: (%.3f%%)\" % (results.mean()*100.0, results.std()*100.0))"
      ],
      "metadata": {
        "colab": {
          "base_uri": "https://localhost:8080/"
        },
        "id": "IRMA0bl52cfU",
        "outputId": "161c7f44-7096-48cd-a5b5-91b6d3b11f8d"
      },
      "execution_count": 2,
      "outputs": [
        {
          "output_type": "stream",
          "name": "stdout",
          "text": [
            "Accuracy: 76.951%, Standard Deviation: (4.841%)\n"
          ]
        }
      ]
    },
    {
      "cell_type": "markdown",
      "source": [
        "### Logarithmic Loss (Log Loss)\n",
        "Log Loss measures the performance of a classification model where the prediction input is a probability value between 0 and 1.\n",
        "Lower log loss indicates better performance. Negative log loss `(neg_log_loss)` is used because scikit-learn expects higher values to be better.\n",
        "\n"
      ],
      "metadata": {
        "id": "P7Q7hgyt2wrr"
      }
    },
    {
      "cell_type": "code",
      "source": [
        "results = cross_val_score(model, X1, Y1, cv=KFold(n_splits=10), scoring='neg_log_loss')\n",
        "print(\"Log Loss: %.3f, Standard Deviation: (%.3f)\" % (results.mean(), results.std()))"
      ],
      "metadata": {
        "colab": {
          "base_uri": "https://localhost:8080/"
        },
        "id": "bjtuqFS62wel",
        "outputId": "867a857c-1c7e-4f9e-fc90-f8fd961113e0"
      },
      "execution_count": 3,
      "outputs": [
        {
          "output_type": "stream",
          "name": "stdout",
          "text": [
            "Log Loss: -0.493, Standard Deviation: (0.047)\n"
          ]
        }
      ]
    },
    {
      "cell_type": "markdown",
      "source": [
        "### Area Under the ROC Curve (AUC)\n",
        "he AUC metric summarizes the performance of a binary classifier over all classification thresholds. It measures the model's ability to distinguish between classes.\n",
        "* AUC = 1: Perfect classifier\n",
        "* AUC = 0.5: No discrimination (random guessing)"
      ],
      "metadata": {
        "id": "2R-M5S1B2_Bt"
      }
    },
    {
      "cell_type": "code",
      "source": [
        "results = cross_val_score(model, X1, Y1, cv=KFold(n_splits=10), scoring='roc_auc')\n",
        "print(\"AUC: %.3f, Standard Deviation: (%.3f)\" % (results.mean(), results.std()))"
      ],
      "metadata": {
        "colab": {
          "base_uri": "https://localhost:8080/"
        },
        "id": "flb1Nh8U3OcV",
        "outputId": "8193aad2-c54d-451e-974b-92c1999b1fd4"
      },
      "execution_count": 4,
      "outputs": [
        {
          "output_type": "stream",
          "name": "stdout",
          "text": [
            "AUC: 0.824, Standard Deviation: (0.041)\n"
          ]
        }
      ]
    },
    {
      "cell_type": "markdown",
      "source": [
        "### Confusion Matrix\n",
        "A confusion matrix is a summary of prediction results on a classification problem. It shows the ways in which your classification model is confused when it makes predictions."
      ],
      "metadata": {
        "id": "6tt2hkxU3RwN"
      }
    },
    {
      "cell_type": "code",
      "source": [
        "from sklearn.model_selection import train_test_split\n",
        "from sklearn.metrics import confusion_matrix\n",
        "\n",
        "X_train, X_test, Y_train, Y_test = train_test_split(X1, Y1, test_size=0.33, random_state=7)\n",
        "model.fit(X_train, Y_train)\n",
        "predicted = model.predict(X_test)\n",
        "print(confusion_matrix(Y_test, predicted))"
      ],
      "metadata": {
        "colab": {
          "base_uri": "https://localhost:8080/"
        },
        "id": "xUofpSqS3mTh",
        "outputId": "36dfb1d8-8e3e-42bc-91bb-3a063cebcd1c"
      },
      "execution_count": 5,
      "outputs": [
        {
          "output_type": "stream",
          "name": "stdout",
          "text": [
            "[[141  21]\n",
            " [ 41  51]]\n"
          ]
        }
      ]
    },
    {
      "cell_type": "markdown",
      "source": [
        "### Classification Report\n",
        "This report includes precision, recall, F1-score, and support for each class.\n",
        "\n",
        "* Precision: Correct positive predictions out of total predicted positives\n",
        "\n",
        "* Recall (Sensitivity): Correct positive predictions out of total actual positives\n",
        "\n",
        "* F1-Score: Harmonic mean of precision and recall\n",
        "\n"
      ],
      "metadata": {
        "id": "cCWFyoMb3q0Z"
      }
    },
    {
      "cell_type": "code",
      "source": [
        "from sklearn.metrics import classification_report\n",
        "print(classification_report(Y_test, predicted))"
      ],
      "metadata": {
        "colab": {
          "base_uri": "https://localhost:8080/"
        },
        "id": "I3UM7EPo341a",
        "outputId": "4cfdb9f0-58e2-4e7b-af28-3f9880333db5"
      },
      "execution_count": 6,
      "outputs": [
        {
          "output_type": "stream",
          "name": "stdout",
          "text": [
            "              precision    recall  f1-score   support\n",
            "\n",
            "         0.0       0.77      0.87      0.82       162\n",
            "         1.0       0.71      0.55      0.62        92\n",
            "\n",
            "    accuracy                           0.76       254\n",
            "   macro avg       0.74      0.71      0.72       254\n",
            "weighted avg       0.75      0.76      0.75       254\n",
            "\n"
          ]
        }
      ]
    },
    {
      "cell_type": "markdown",
      "source": [
        "## Regression Metrics (Boston Dataset)"
      ],
      "metadata": {
        "id": "nmFikTMa3944"
      }
    },
    {
      "cell_type": "markdown",
      "source": [
        "### Mean Absolute Error (MAE)\n",
        "MAE measures the average magnitude of errors in a set of predictions, without considering their direction."
      ],
      "metadata": {
        "id": "d3TjHeEU4AuT"
      }
    },
    {
      "cell_type": "code",
      "source": [
        "from sklearn.linear_model import LinearRegression\n",
        "\n",
        "model = LinearRegression()\n",
        "results = cross_val_score(model, X2, Y2, cv=KFold(n_splits=10), scoring='neg_mean_absolute_error')\n",
        "print(\"MAE: %.3f, Standard Deviation: (%.3f)\" % (results.mean(), results.std()))"
      ],
      "metadata": {
        "colab": {
          "base_uri": "https://localhost:8080/"
        },
        "id": "0ZRPrFDl4HjL",
        "outputId": "75c6ec01-1bbf-4e05-e726-162dbfbc80f9"
      },
      "execution_count": 7,
      "outputs": [
        {
          "output_type": "stream",
          "name": "stdout",
          "text": [
            "MAE: -4.034, Standard Deviation: (2.114)\n"
          ]
        }
      ]
    },
    {
      "cell_type": "markdown",
      "source": [
        "### Mean Squared Error (MSE)\n",
        "MSE is the average of the squared differences between predicted and actual values. Squaring the errors gives more weight to large errors."
      ],
      "metadata": {
        "id": "D-nLZX2G4Ibg"
      }
    },
    {
      "cell_type": "code",
      "source": [
        "results = cross_val_score(model, X2, Y2, cv=KFold(n_splits=10), scoring='neg_mean_squared_error')\n",
        "print(\"MSE: %.3f, Standard Deviation: (%.3f)\" % (results.mean(), results.std()))"
      ],
      "metadata": {
        "colab": {
          "base_uri": "https://localhost:8080/"
        },
        "id": "_335Sexp4KkM",
        "outputId": "dc98baf5-0bc4-458e-92a2-30eaed330c37"
      },
      "execution_count": 8,
      "outputs": [
        {
          "output_type": "stream",
          "name": "stdout",
          "text": [
            "MSE: -35.099, Standard Deviation: (45.493)\n"
          ]
        }
      ]
    },
    {
      "cell_type": "markdown",
      "source": [
        "### R² Score (Coefficient of Determination)\n",
        "R² is the proportion of the variance in the dependent variable that is predictable from the independent variables.\n",
        "\n",
        "* R² = 1: Perfect fit\n",
        "\n",
        "* R² = 0: Model predicts nothing better than the mean\n",
        "\n",
        "* Can be negative if the model is worse than just predicting the mean"
      ],
      "metadata": {
        "id": "JHJIoKi84RGz"
      }
    },
    {
      "cell_type": "code",
      "source": [
        "results = cross_val_score(model, X2, Y2, cv=KFold(n_splits=10), scoring='r2')\n",
        "print(\"R² Score: %.3f, Standard Deviation: (%.3f)\" % (results.mean(), results.std()))"
      ],
      "metadata": {
        "colab": {
          "base_uri": "https://localhost:8080/"
        },
        "id": "mge6t3JM4cFf",
        "outputId": "09c2093d-4699-4204-87ae-27ca1eac291e"
      },
      "execution_count": 9,
      "outputs": [
        {
          "output_type": "stream",
          "name": "stdout",
          "text": [
            "R² Score: 0.190, Standard Deviation: (0.594)\n"
          ]
        }
      ]
    }
  ]
}