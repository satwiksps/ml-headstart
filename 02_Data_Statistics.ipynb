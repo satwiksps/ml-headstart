{
  "nbformat": 4,
  "nbformat_minor": 0,
  "metadata": {
    "colab": {
      "provenance": []
    },
    "kernelspec": {
      "name": "python3",
      "display_name": "Python 3"
    },
    "language_info": {
      "name": "python"
    }
  },
  "cells": [
    {
      "cell_type": "markdown",
      "source": [
        "## Loading Dataset Using Pandas\n",
        "We can use `pandas.read_csv()` to load a dataset from a remote URL or local file."
      ],
      "metadata": {
        "id": "WPbG60cpGgoW"
      }
    },
    {
      "cell_type": "code",
      "source": [
        "from pandas import read_csv\n",
        "\n",
        "url = 'https://raw.githubusercontent.com/erojaso/MLMasteryEndToEnd/master/data/pima-indians-diabetes.data.csv'\n",
        "column_names = ['preg', 'plas', 'pres', 'skin', 'test', 'mass', 'pedi', 'age', 'class']\n",
        "\n",
        "# Load CSV using Pandas\n",
        "data = read_csv(url, names=column_names)\n",
        "print(data)"
      ],
      "metadata": {
        "colab": {
          "base_uri": "https://localhost:8080/"
        },
        "id": "Hh0mi1ypEM8W",
        "outputId": "2de0fa33-d54c-44c8-eb11-52b8db5bb97b"
      },
      "execution_count": 1,
      "outputs": [
        {
          "output_type": "stream",
          "name": "stdout",
          "text": [
            "     preg  plas  pres  skin  test  mass   pedi  age  class\n",
            "0       6   148    72    35     0  33.6  0.627   50      1\n",
            "1       1    85    66    29     0  26.6  0.351   31      0\n",
            "2       8   183    64     0     0  23.3  0.672   32      1\n",
            "3       1    89    66    23    94  28.1  0.167   21      0\n",
            "4       0   137    40    35   168  43.1  2.288   33      1\n",
            "..    ...   ...   ...   ...   ...   ...    ...  ...    ...\n",
            "763    10   101    76    48   180  32.9  0.171   63      0\n",
            "764     2   122    70    27     0  36.8  0.340   27      0\n",
            "765     5   121    72    23   112  26.2  0.245   30      0\n",
            "766     1   126    60     0     0  30.1  0.349   47      1\n",
            "767     1    93    70    31     0  30.4  0.315   23      0\n",
            "\n",
            "[768 rows x 9 columns]\n"
          ]
        }
      ]
    },
    {
      "cell_type": "markdown",
      "source": [
        "## Peeking into the Data\n",
        "You can view the first few rows using `.head()` and check the overall dimensions with .shape."
      ],
      "metadata": {
        "id": "-w9z4YYQGl6C"
      }
    },
    {
      "cell_type": "code",
      "source": [
        "peek = data.head(10)  # Peek into first 10 rows\n",
        "print(peek)\n",
        "\n",
        "# Get number of rows and columns\n",
        "print(data.shape)"
      ],
      "metadata": {
        "colab": {
          "base_uri": "https://localhost:8080/"
        },
        "id": "IWWmJQhGGyE9",
        "outputId": "2f59197d-9571-4ff8-dd0f-66fbb58da727"
      },
      "execution_count": 2,
      "outputs": [
        {
          "output_type": "stream",
          "name": "stdout",
          "text": [
            "   preg  plas  pres  skin  test  mass   pedi  age  class\n",
            "0     6   148    72    35     0  33.6  0.627   50      1\n",
            "1     1    85    66    29     0  26.6  0.351   31      0\n",
            "2     8   183    64     0     0  23.3  0.672   32      1\n",
            "3     1    89    66    23    94  28.1  0.167   21      0\n",
            "4     0   137    40    35   168  43.1  2.288   33      1\n",
            "5     5   116    74     0     0  25.6  0.201   30      0\n",
            "6     3    78    50    32    88  31.0  0.248   26      1\n",
            "7    10   115     0     0     0  35.3  0.134   29      0\n",
            "8     2   197    70    45   543  30.5  0.158   53      1\n",
            "9     8   125    96     0     0   0.0  0.232   54      1\n",
            "(768, 9)\n"
          ]
        }
      ]
    },
    {
      "cell_type": "markdown",
      "source": [
        "## Understanding the Dataset\n",
        "We can inspect data types and generate summary statistics to understand the dataset better."
      ],
      "metadata": {
        "id": "wZV55z29G10I"
      }
    },
    {
      "cell_type": "code",
      "source": [
        "# Data types of each column\n",
        "types = data.dtypes\n",
        "print(types)"
      ],
      "metadata": {
        "colab": {
          "base_uri": "https://localhost:8080/"
        },
        "id": "ffSZrgR0G4f2",
        "outputId": "3c5eb7ba-75b4-4683-e4b9-25f113ca6117"
      },
      "execution_count": 3,
      "outputs": [
        {
          "output_type": "stream",
          "name": "stdout",
          "text": [
            "preg       int64\n",
            "plas       int64\n",
            "pres       int64\n",
            "skin       int64\n",
            "test       int64\n",
            "mass     float64\n",
            "pedi     float64\n",
            "age        int64\n",
            "class      int64\n",
            "dtype: object\n"
          ]
        }
      ]
    },
    {
      "cell_type": "code",
      "source": [
        "# Set display options for better readability\n",
        "from pandas import set_option\n",
        "set_option('display.width', 100)\n",
        "set_option('display.precision', 3)  # Limit decimals\n",
        "\n",
        "# Summary statistics for each column\n",
        "description = data.describe()\n",
        "print(description)"
      ],
      "metadata": {
        "colab": {
          "base_uri": "https://localhost:8080/"
        },
        "id": "ijCDkjYsG7MC",
        "outputId": "538b2ba7-d079-4d66-abd1-17e5115409aa"
      },
      "execution_count": 4,
      "outputs": [
        {
          "output_type": "stream",
          "name": "stdout",
          "text": [
            "          preg     plas     pres     skin     test     mass     pedi      age    class\n",
            "count  768.000  768.000  768.000  768.000  768.000  768.000  768.000  768.000  768.000\n",
            "mean     3.845  120.895   69.105   20.536   79.799   31.993    0.472   33.241    0.349\n",
            "std      3.370   31.973   19.356   15.952  115.244    7.884    0.331   11.760    0.477\n",
            "min      0.000    0.000    0.000    0.000    0.000    0.000    0.078   21.000    0.000\n",
            "25%      1.000   99.000   62.000    0.000    0.000   27.300    0.244   24.000    0.000\n",
            "50%      3.000  117.000   72.000   23.000   30.500   32.000    0.372   29.000    0.000\n",
            "75%      6.000  140.250   80.000   32.000  127.250   36.600    0.626   41.000    1.000\n",
            "max     17.000  199.000  122.000   99.000  846.000   67.100    2.420   81.000    1.000\n"
          ]
        }
      ]
    },
    {
      "cell_type": "markdown",
      "source": [
        "## Class Distribution\n",
        "Understanding how many samples belong to each class helps in identifying imbalance."
      ],
      "metadata": {
        "id": "yjeD1MXkG9Tq"
      }
    },
    {
      "cell_type": "code",
      "source": [
        "# Count of instances in each class (0 = non-diabetic, 1 = diabetic)\n",
        "class_counts = data.groupby('class').size()\n",
        "print(class_counts)"
      ],
      "metadata": {
        "colab": {
          "base_uri": "https://localhost:8080/"
        },
        "id": "13laSdEBHCNC",
        "outputId": "105fc4e4-2cb0-4064-878f-3a049974d079"
      },
      "execution_count": 5,
      "outputs": [
        {
          "output_type": "stream",
          "name": "stdout",
          "text": [
            "class\n",
            "0    500\n",
            "1    268\n",
            "dtype: int64\n"
          ]
        }
      ]
    },
    {
      "cell_type": "markdown",
      "source": [
        "## Pearson’s Correlation Coefficient\n",
        "Pearson’s correlation measures the linear relationship between features. Values range between -1 to 1:\n",
        "\n",
        "* 1 → strong positive correlation\n",
        "\n",
        "* -1 → strong negative correlation\n",
        "\n",
        "* 0 → no correlation\n",
        "\n",
        "Highly correlated features can degrade model performance."
      ],
      "metadata": {
        "id": "HrSuWh-gHFDe"
      }
    },
    {
      "cell_type": "code",
      "source": [
        "# Display options for correlation matrix\n",
        "set_option('display.width', 100)\n",
        "set_option('display.precision', 3)\n",
        "\n",
        "# Compute Pearson correlation between attributes\n",
        "correlations = data.corr(method='pearson')\n",
        "print(correlations)"
      ],
      "metadata": {
        "colab": {
          "base_uri": "https://localhost:8080/"
        },
        "id": "SDTgdGsuHRmk",
        "outputId": "0eca99d7-d79e-4aa5-f9bf-6718036d3439"
      },
      "execution_count": 6,
      "outputs": [
        {
          "output_type": "stream",
          "name": "stdout",
          "text": [
            "        preg   plas   pres   skin   test   mass   pedi    age  class\n",
            "preg   1.000  0.129  0.141 -0.082 -0.074  0.018 -0.034  0.544  0.222\n",
            "plas   0.129  1.000  0.153  0.057  0.331  0.221  0.137  0.264  0.467\n",
            "pres   0.141  0.153  1.000  0.207  0.089  0.282  0.041  0.240  0.065\n",
            "skin  -0.082  0.057  0.207  1.000  0.437  0.393  0.184 -0.114  0.075\n",
            "test  -0.074  0.331  0.089  0.437  1.000  0.198  0.185 -0.042  0.131\n",
            "mass   0.018  0.221  0.282  0.393  0.198  1.000  0.141  0.036  0.293\n",
            "pedi  -0.034  0.137  0.041  0.184  0.185  0.141  1.000  0.034  0.174\n",
            "age    0.544  0.264  0.240 -0.114 -0.042  0.036  0.034  1.000  0.238\n",
            "class  0.222  0.467  0.065  0.075  0.131  0.293  0.174  0.238  1.000\n"
          ]
        }
      ]
    },
    {
      "cell_type": "markdown",
      "source": [
        "## Correlation Heatmap\n",
        "A visual heatmap helps quickly identify strong/weak correlations between features."
      ],
      "metadata": {
        "id": "Zs-Zk-wCHTiV"
      }
    },
    {
      "cell_type": "code",
      "source": [
        "import matplotlib.pyplot as plt\n",
        "\n",
        "# Create a heatmap of the correlation matrix\n",
        "plt.matshow(correlations)\n",
        "plt.title(\"Feature Correlation Heatmap\", pad=20)\n",
        "plt.colorbar()\n",
        "plt.show()"
      ],
      "metadata": {
        "colab": {
          "base_uri": "https://localhost:8080/",
          "height": 414
        },
        "id": "GqGbyCR8HV5V",
        "outputId": "cd234c8b-64f7-4b76-fdfd-a0cedf29f436"
      },
      "execution_count": 7,
      "outputs": [
        {
          "output_type": "display_data",
          "data": {
            "text/plain": [
              "<Figure size 480x480 with 2 Axes>"
            ],
            "image/png": "[encoded data removed]"
          },
          "metadata": {}
        }
      ]
    },
    {
      "cell_type": "markdown",
      "source": [
        "## Skewness of Features\n",
        "Skewness measures the asymmetry of the distribution of data. A high skew can affect the performance of some algorithms."
      ],
      "metadata": {
        "id": "I9-Ag3dgHXzB"
      }
    },
    {
      "cell_type": "code",
      "source": [
        "# Check the skewness of distribution for each attribute\n",
        "skew = data.skew()\n",
        "print(skew)"
      ],
      "metadata": {
        "colab": {
          "base_uri": "https://localhost:8080/"
        },
        "id": "aqBvsbxPHa3e",
        "outputId": "98ed06bd-2bf4-4553-9dcf-da88a1e2c45c"
      },
      "execution_count": 8,
      "outputs": [
        {
          "output_type": "stream",
          "name": "stdout",
          "text": [
            "preg     0.902\n",
            "plas     0.174\n",
            "pres    -1.844\n",
            "skin     0.109\n",
            "test     2.272\n",
            "mass    -0.429\n",
            "pedi     1.920\n",
            "age      1.130\n",
            "class    0.635\n",
            "dtype: float64\n"
          ]
        }
      ]
    }
  ]
}