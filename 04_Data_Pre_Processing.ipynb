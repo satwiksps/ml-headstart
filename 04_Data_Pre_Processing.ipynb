{
  "nbformat": 4,
  "nbformat_minor": 0,
  "metadata": {
    "colab": {
      "provenance": []
    },
    "kernelspec": {
      "name": "python3",
      "display_name": "Python 3"
    },
    "language_info": {
      "name": "python"
    }
  },
  "cells": [
    {
      "cell_type": "markdown",
      "source": [
        "## Data Preprocessing\n",
        "Preprocessing is a critical step in machine learning. Raw data is rarely clean or scaled, and preprocessing ensures that models train efficiently and perform better.\n",
        "\n"
      ],
      "metadata": {
        "id": "aaPZVySU5prP"
      }
    },
    {
      "cell_type": "code",
      "source": [
        "from pandas import read_csv\n",
        "\n",
        "# Load CSV using Pandas\n",
        "url = 'https://raw.githubusercontent.com/erojaso/MLMasteryEndToEnd/master/data/pima-indians-diabetes.data.csv'\n",
        "column_names = ['preg', 'plas', 'pres', 'skin', 'test', 'mass', 'pedi', 'age', 'class']\n",
        "\n",
        "data = read_csv(url, names=column_names)\n",
        "\n",
        "# Convert to NumPy array and split input/output\n",
        "array = data.values\n",
        "Input = array[:, 0:8]   # Input features\n",
        "Output = array[:, 8]    # Target column"
      ],
      "metadata": {
        "id": "u0Jgx6iW5tDs"
      },
      "execution_count": 1,
      "outputs": []
    },
    {
      "cell_type": "markdown",
      "source": [
        "## Min-Max Scaling (Normalization to [0,1])\n",
        "Min-Max scaling rescales each feature to a given range — here, between 0 and 1. This is helpful for algorithms sensitive to the scale (e.g., k-NN, neural networks)."
      ],
      "metadata": {
        "id": "4o8M9X_k5vk4"
      }
    },
    {
      "cell_type": "code",
      "source": [
        "from sklearn.preprocessing import MinMaxScaler\n",
        "from numpy import set_printoptions\n",
        "\n",
        "scaler = MinMaxScaler(feature_range=(0, 1))\n",
        "rescaledX = scaler.fit_transform(Input)\n",
        "\n",
        "# Set printing precision\n",
        "set_printoptions(precision=3)\n",
        "print(rescaledX[0:5, :])  # Show first 5 rows"
      ],
      "metadata": {
        "colab": {
          "base_uri": "https://localhost:8080/"
        },
        "id": "ueD5Mml0503k",
        "outputId": "817d57cd-fe83-4392-f1ed-569e589130f5"
      },
      "execution_count": 2,
      "outputs": [
        {
          "output_type": "stream",
          "name": "stdout",
          "text": [
            "[[0.353 0.744 0.59  0.354 0.    0.501 0.234 0.483]\n",
            " [0.059 0.427 0.541 0.293 0.    0.396 0.117 0.167]\n",
            " [0.471 0.92  0.525 0.    0.    0.347 0.254 0.183]\n",
            " [0.059 0.447 0.541 0.232 0.111 0.419 0.038 0.   ]\n",
            " [0.    0.688 0.328 0.354 0.199 0.642 0.944 0.2  ]]\n"
          ]
        }
      ]
    },
    {
      "cell_type": "markdown",
      "source": [
        "# Standardization (Z-score Normalization)\n",
        "This transforms data to have mean = 0 and standard deviation = 1. Useful for algorithms assuming Gaussian distribution (e.g., logistic regression, SVM, etc.)."
      ],
      "metadata": {
        "id": "0XRdWXmd557B"
      }
    },
    {
      "cell_type": "code",
      "source": [
        "from sklearn.preprocessing import StandardScaler\n",
        "\n",
        "scaler = StandardScaler().fit(Input)\n",
        "standardizedX = scaler.transform(Input)\n",
        "\n",
        "set_printoptions(precision=3)\n",
        "print(standardizedX[0:5, :])"
      ],
      "metadata": {
        "colab": {
          "base_uri": "https://localhost:8080/"
        },
        "id": "CEpfeMYo53mJ",
        "outputId": "5beee15b-1edc-48ed-c0ba-ca9dbf8c5bfd"
      },
      "execution_count": 3,
      "outputs": [
        {
          "output_type": "stream",
          "name": "stdout",
          "text": [
            "[[ 0.64   0.848  0.15   0.907 -0.693  0.204  0.468  1.426]\n",
            " [-0.845 -1.123 -0.161  0.531 -0.693 -0.684 -0.365 -0.191]\n",
            " [ 1.234  1.944 -0.264 -1.288 -0.693 -1.103  0.604 -0.106]\n",
            " [-0.845 -0.998 -0.161  0.155  0.123 -0.494 -0.921 -1.042]\n",
            " [-1.142  0.504 -1.505  0.907  0.766  1.41   5.485 -0.02 ]]\n"
          ]
        }
      ]
    },
    {
      "cell_type": "markdown",
      "source": [
        "## Normalization (Vector Length = 1)\n",
        "This scales individual samples (rows) to have unit norm. It’s helpful in text classification and clustering."
      ],
      "metadata": {
        "id": "Wsb2JzAt5_bh"
      }
    },
    {
      "cell_type": "code",
      "source": [
        "from sklearn.preprocessing import Normalizer\n",
        "\n",
        "scaler = Normalizer().fit(Input)\n",
        "normalizedInput = scaler.transform(Input)\n",
        "\n",
        "set_printoptions(precision=3)\n",
        "print(normalizedInput[0:5, :])"
      ],
      "metadata": {
        "colab": {
          "base_uri": "https://localhost:8080/"
        },
        "id": "HLYBUR0a6Dca",
        "outputId": "2046bb80-2bad-4b88-9f0e-dc1ac665d6b4"
      },
      "execution_count": 4,
      "outputs": [
        {
          "output_type": "stream",
          "name": "stdout",
          "text": [
            "[[0.034 0.828 0.403 0.196 0.    0.188 0.004 0.28 ]\n",
            " [0.008 0.716 0.556 0.244 0.    0.224 0.003 0.261]\n",
            " [0.04  0.924 0.323 0.    0.    0.118 0.003 0.162]\n",
            " [0.007 0.588 0.436 0.152 0.622 0.186 0.001 0.139]\n",
            " [0.    0.596 0.174 0.152 0.731 0.188 0.01  0.144]]\n"
          ]
        }
      ]
    },
    {
      "cell_type": "markdown",
      "source": [
        "## Binarization\n",
        "Binarization applies a threshold: values above it are converted to 1; otherwise 0. This is useful for converting numeric features into binary ones."
      ],
      "metadata": {
        "id": "Bn8KppMp6Fos"
      }
    },
    {
      "cell_type": "code",
      "source": [
        "from sklearn.preprocessing import Binarizer\n",
        "\n",
        "binarizer = Binarizer(threshold=0.0).fit(Input)\n",
        "binaryX = binarizer.transform(Input)\n",
        "\n",
        "set_printoptions(precision=3)\n",
        "print(binaryX[0:5, :])"
      ],
      "metadata": {
        "colab": {
          "base_uri": "https://localhost:8080/"
        },
        "id": "jQbFxpZ36K5S",
        "outputId": "c6418bd2-d5b5-4cbc-dc0b-4352052b837f"
      },
      "execution_count": 5,
      "outputs": [
        {
          "output_type": "stream",
          "name": "stdout",
          "text": [
            "[[1. 1. 1. 1. 0. 1. 1. 1.]\n",
            " [1. 1. 1. 1. 0. 1. 1. 1.]\n",
            " [1. 1. 1. 0. 0. 1. 1. 1.]\n",
            " [1. 1. 1. 1. 1. 1. 1. 1.]\n",
            " [0. 1. 1. 1. 1. 1. 1. 1.]]\n"
          ]
        }
      ]
    }
  ]
}