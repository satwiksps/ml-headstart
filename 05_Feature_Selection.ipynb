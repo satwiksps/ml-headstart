{
  "nbformat": 4,
  "nbformat_minor": 0,
  "metadata": {
    "colab": {
      "provenance": []
    },
    "kernelspec": {
      "name": "python3",
      "display_name": "Python 3"
    },
    "language_info": {
      "name": "python"
    }
  },
  "cells": [
    {
      "cell_type": "markdown",
      "source": [
        "## Feature Selection in Machine Learning\n",
        "Feature selection helps reduce overfitting, improves accuracy, and decreases training time. It is especially useful for high-dimensional datasets.\n",
        "\n"
      ],
      "metadata": {
        "id": "oWYMHUMk6xev"
      }
    },
    {
      "cell_type": "code",
      "source": [
        "from pandas import read_csv\n",
        "\n",
        "url = 'https://raw.githubusercontent.com/erojaso/MLMasteryEndToEnd/master/data/pima-indians-diabetes.data.csv'\n",
        "column_names = ['preg', 'plas', 'pres', 'skin', 'test', 'mass', 'pedi', 'age', 'class']\n",
        "\n",
        "# Load CSV into DataFrame\n",
        "data = read_csv(url, names=column_names)\n",
        "\n",
        "# Convert to NumPy array and split into input and output\n",
        "array = data.values\n",
        "Input = array[:, 0:8]\n",
        "Output = array[:, 8]"
      ],
      "metadata": {
        "id": "9tYrV9su6wud"
      },
      "execution_count": 1,
      "outputs": []
    },
    {
      "cell_type": "markdown",
      "source": [
        "## SelectKBest with Chi-Squared Test\n",
        "This method ranks features by their chi-squared statistic and selects the top `k`."
      ],
      "metadata": {
        "id": "gaK-2PVg63UA"
      }
    },
    {
      "cell_type": "code",
      "source": [
        "from sklearn.feature_selection import SelectKBest\n",
        "from sklearn.feature_selection import chi2\n",
        "from numpy import set_printoptions\n",
        "\n",
        "# Apply SelectKBest to extract top 4 features\n",
        "test = SelectKBest(score_func=chi2, k=4)\n",
        "fit = test.fit(Input, Output)\n",
        "\n",
        "# Print scores\n",
        "set_printoptions(precision=3)\n",
        "print(\"Chi2 scores for each feature:\\n\", fit.scores_)\n",
        "\n",
        "# Transform input data to include only selected features\n",
        "features = fit.transform(Input)\n",
        "print(\"\\nTop 4 features (first 5 rows):\\n\", features[0:5, :])"
      ],
      "metadata": {
        "colab": {
          "base_uri": "https://localhost:8080/"
        },
        "id": "Q6rjQ0gl68Z7",
        "outputId": "16be3f72-1a24-4071-b51a-0fc763c4f0c0"
      },
      "execution_count": 2,
      "outputs": [
        {
          "output_type": "stream",
          "name": "stdout",
          "text": [
            "Chi2 scores for each feature:\n",
            " [ 111.52  1411.887   17.605   53.108 2175.565  127.669    5.393  181.304]\n",
            "\n",
            "Top 4 features (first 5 rows):\n",
            " [[148.    0.   33.6  50. ]\n",
            " [ 85.    0.   26.6  31. ]\n",
            " [183.    0.   23.3  32. ]\n",
            " [ 89.   94.   28.1  21. ]\n",
            " [137.  168.   43.1  33. ]]\n"
          ]
        }
      ]
    },
    {
      "cell_type": "markdown",
      "source": [
        "## Recursive Feature Elimination (RFE)\n",
        "RFE recursively removes less important features and builds the model again until the desired number is reached."
      ],
      "metadata": {
        "id": "xMYk2DRY69vi"
      }
    },
    {
      "cell_type": "code",
      "source": [
        "from sklearn.feature_selection import RFE\n",
        "from sklearn.linear_model import LogisticRegression\n",
        "\n",
        "model = LogisticRegression(solver='liblinear')\n",
        "rfe = RFE(estimator=model, n_features_to_select=3)\n",
        "fit = rfe.fit(Input, Output)\n",
        "\n",
        "print(\"Num Features Selected:\", fit.n_features_)\n",
        "print(\"Selected Features (True=Selected):\", fit.support_)\n",
        "print(\"Feature Ranking:\", fit.ranking_)"
      ],
      "metadata": {
        "colab": {
          "base_uri": "https://localhost:8080/"
        },
        "id": "biFa4VYg7Djt",
        "outputId": "0e202146-a3b2-4452-c553-10d8f23d3e6e"
      },
      "execution_count": 3,
      "outputs": [
        {
          "output_type": "stream",
          "name": "stdout",
          "text": [
            "Num Features Selected: 3\n",
            "Selected Features (True=Selected): [ True False False False False  True  True False]\n",
            "Feature Ranking: [1 2 3 5 6 1 1 4]\n"
          ]
        }
      ]
    },
    {
      "cell_type": "markdown",
      "source": [
        "## Principal Component Analysis (PCA)\n",
        "PCA transforms original features into a smaller set of uncorrelated components while retaining most of the variance."
      ],
      "metadata": {
        "id": "wVBEskqb7HSX"
      }
    },
    {
      "cell_type": "code",
      "source": [
        "from sklearn.decomposition import PCA\n",
        "\n",
        "pca = PCA(n_components=3)\n",
        "fit = pca.fit(Input)\n",
        "\n",
        "print(\"Explained Variance Ratio:\", fit.explained_variance_ratio_)\n",
        "print(\"Principal Components:\\n\", fit.components_)"
      ],
      "metadata": {
        "colab": {
          "base_uri": "https://localhost:8080/"
        },
        "id": "sDELDyIJ7I_D",
        "outputId": "d5e93870-e41a-43da-8794-46c740409a63"
      },
      "execution_count": 4,
      "outputs": [
        {
          "output_type": "stream",
          "name": "stdout",
          "text": [
            "Explained Variance Ratio: [0.889 0.062 0.026]\n",
            "Principal Components:\n",
            " [[-2.022e-03  9.781e-02  1.609e-02  6.076e-02  9.931e-01  1.401e-02\n",
            "   5.372e-04 -3.565e-03]\n",
            " [ 2.265e-02  9.722e-01  1.419e-01 -5.786e-02 -9.463e-02  4.697e-02\n",
            "   8.168e-04  1.402e-01]\n",
            " [ 2.246e-02 -1.434e-01  9.225e-01  3.070e-01 -2.098e-02  1.324e-01\n",
            "   6.400e-04  1.255e-01]]\n"
          ]
        }
      ]
    },
    {
      "cell_type": "markdown",
      "source": [
        "## Feature Importance using Extra Trees Classifier\n",
        "This ensemble method assigns an importance score to each feature based on how helpful it was in building decision trees."
      ],
      "metadata": {
        "id": "Jlv_O0pA7LLP"
      }
    },
    {
      "cell_type": "code",
      "source": [
        "from sklearn.ensemble import ExtraTreesClassifier\n",
        "\n",
        "model = ExtraTreesClassifier(n_estimators=100)\n",
        "model.fit(Input, Output)\n",
        "\n",
        "print(\"Feature Importances from Extra Trees:\\n\", model.feature_importances_)"
      ],
      "metadata": {
        "colab": {
          "base_uri": "https://localhost:8080/"
        },
        "id": "uQS5wEh37PpU",
        "outputId": "f661eb33-8318-46d8-b252-df819756e339"
      },
      "execution_count": 5,
      "outputs": [
        {
          "output_type": "stream",
          "name": "stdout",
          "text": [
            "Feature Importances from Extra Trees:\n",
            " [0.111 0.232 0.097 0.078 0.074 0.143 0.12  0.144]\n"
          ]
        }
      ]
    }
  ]
}